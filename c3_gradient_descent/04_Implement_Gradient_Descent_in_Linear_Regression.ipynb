{
 "cells": [
  {
   "cell_type": "markdown",
   "metadata": {
    "collapsed": true
   },
   "source": [
    "# 在线性回归模型中使用梯度下降法"
   ]
  },
  {
   "cell_type": "code",
   "execution_count": 1,
   "metadata": {},
   "outputs": [],
   "source": [
    "import numpy as np\n",
    "import matplotlib.pyplot as plt"
   ]
  },
  {
   "cell_type": "code",
   "execution_count": 2,
   "metadata": {},
   "outputs": [],
   "source": [
    "np.random.seed(666)\n",
    "x = 2 * np.random.random(size=100)\n",
    "y = x * 3. + 4. + np.random.normal(size=100)"
   ]
  },
  {
   "cell_type": "code",
   "execution_count": 3,
   "metadata": {},
   "outputs": [
    {
     "data": {
      "text/plain": [
       "array([ 1.40087424,  1.68837329,  1.35302867,  1.45571611,  1.90291591,\n        0.02540639,  0.8271754 ,  0.09762559,  0.19985712,  1.01613261,\n        0.40049508,  1.48830834,  0.38578401,  1.4016895 ,  0.58645621,\n        1.54895891,  0.01021768,  0.22571531,  0.22190734,  0.49533646,\n        0.0464726 ,  1.45464231,  0.68006988,  0.39500631,  1.81835919,\n        1.95669397,  1.06560509,  0.5182637 ,  1.16762524,  0.65138131,\n        1.77779863,  1.25280905,  1.63774738,  1.09469084,  0.83342401,\n        1.48609438,  0.73919276,  0.15033309,  1.55038596,  0.43881849,\n        0.15868425,  0.97356104,  0.3073478 ,  1.65693027,  0.38273714,\n        0.54081791,  1.12206884,  1.80476078,  1.70357668,  0.83616392,\n        0.78695254,  0.03244103,  0.59842674,  0.70755644,  1.78700533,\n        1.57227314,  1.54277385,  0.84010971,  1.55205028,  0.92861629,\n        0.36354033,  1.76805121,  1.43758454,  1.3437626 ,  0.51312727,\n        0.86160364,  0.03290715,  0.46998765,  1.02234262,  0.58401848,\n        1.00378702,  0.99654626,  0.20754305,  0.89288623,  1.93837834,\n        1.47694224,  1.43910122,  1.78608677,  1.92534936,  0.39410046,\n        1.42917993,  0.32384788,  1.73250954,  1.24764049,  1.91891025,\n        1.04828408,  0.07286576,  1.45374316,  0.00781969,  0.100588  ,\n        1.98398463,  0.424515  ,  1.89474133,  0.9030811 ,  1.99758935,\n        1.29500298,  1.40448142,  0.85916353,  0.33554952,  0.23626619])"
      ]
     },
     "execution_count": 3,
     "metadata": {},
     "output_type": "execute_result"
    }
   ],
   "source": [
    "x"
   ]
  },
  {
   "cell_type": "code",
   "execution_count": 4,
   "metadata": {},
   "outputs": [
    {
     "data": {
      "text/plain": [
       "array([  8.91412688,   8.89446981,   8.85921604,   9.04490343,\n         8.75831915,   4.01914255,   6.84103696,   4.81582242,\n         3.68561238,   6.46344854,   4.61756153,   8.45774339,\n         3.21438541,   7.98486624,   4.18885101,   8.46060979,\n         4.29706975,   4.06803046,   3.58490782,   7.0558176 ,\n         4.04787249,   7.46699513,   7.17356576,   6.90706602,\n        10.06445574,  10.46043335,   6.56186893,   7.41768066,\n         6.63306338,   5.16962652,   8.92568927,   8.81142811,\n         8.27497363,   9.55931293,   8.31763691,   8.39594229,\n         6.46897919,   4.53407649,   9.01364797,   5.23131871,\n         5.35968048,   4.92858955,   4.86197655,   8.18778792,\n         3.53458796,   3.82545342,   7.06040408,  10.08420404,\n        10.5135845 ,   5.57993775,   6.63546582,   2.56719372,\n         6.94786703,   5.21927087,   9.54664436,   8.92205488,\n         9.1083202 ,   7.66433039,   8.04596666,   7.0692907 ,\n         6.52268065,   8.89229807,  11.53002966,   6.91636019,\n         4.88098465,   6.9583948 ,   2.97055168,   5.2614817 ,\n         5.8844378 ,   5.04227386,   4.25122982,   7.27271509,\n         5.71044451,   6.78615502,   9.60686078,   7.76422413,\n         7.66241623,  10.79248261,   9.42339386,   4.16563131,\n         8.90109862,   4.78925295,   9.51168702,   8.62159339,\n         9.32966334,   8.06523273,   5.25671307,   8.81165672,\n         6.08431894,   4.74245033,   8.29671129,   6.90839908,\n        10.42354245,   5.65267702,  10.16017935,   9.02635276,\n         6.94102685,   6.27077412,   6.77410495,   3.92117584])"
      ]
     },
     "execution_count": 4,
     "metadata": {},
     "output_type": "execute_result"
    }
   ],
   "source": [
    "y"
   ]
  },
  {
   "cell_type": "code",
   "execution_count": 5,
   "metadata": {},
   "outputs": [],
   "source": [
    "# 转换为100行，1列的数据\n",
    "X = x.reshape(-1,1)"
   ]
  },
  {
   "cell_type": "code",
   "execution_count": 6,
   "metadata": {},
   "outputs": [
    {
     "data": {
      "image/png": "[encoded data removed]",
      "text/plain": [
       "<matplotlib.figure.Figure at 0x1064a0ba8>"
      ]
     },
     "metadata": {},
     "output_type": "display_data"
    }
   ],
   "source": [
    "plt.scatter(x,y)\n",
    "plt.show()"
   ]
  },
  {
   "cell_type": "markdown",
   "metadata": {},
   "source": [
    "## 使用梯度下降训练法"
   ]
  },
  {
   "cell_type": "markdown",
   "metadata": {},
   "source": [
    "### 定义一个损失函数"
   ]
  },
  {
   "cell_type": "code",
   "execution_count": 7,
   "metadata": {},
   "outputs": [],
   "source": [
    "def J(theta, X_b, y):\n",
    "    \"\"\"\n",
    "    给定θ，特征矩阵X，标记向量y，根据损失函数得出其（损失）值\n",
    "    :param theta: \n",
    "    :param X_b: \n",
    "    :param y: \n",
    "    :return: \n",
    "    \"\"\"\n",
    "    \n",
    "    # 分子部分其实等价于 (y - X_b.dot(theta)).T.dot(y - X_b.dot(theta))\n",
    "    try:\n",
    "        return np.sum((y - X_b.dot(theta))**2) / len(X_b)\n",
    "    except:\n",
    "        return float('inf') #防止溢出？有异常直接返回最大值\n",
    "    "
   ]
  },
  {
   "cell_type": "markdown",
   "metadata": {},
   "source": [
    "### 损失函数J的梯度"
   ]
  },
  {
   "cell_type": "code",
   "execution_count": 9,
   "metadata": {},
   "outputs": [],
   "source": [
    "def derivative_J(theta:np.ndarray, X_b:np.ndarray, y:np.ndarray):\n",
    "    \"\"\"\n",
    "    求θ为给定值时的导数\n",
    "    :param theta: \n",
    "    :param X_b: \n",
    "    :param y: \n",
    "    :return: \n",
    "    \"\"\"\n",
    "    res = np.empty(len(theta))\n",
    "    res[0] = np.sum(X_b.dot(theta) - y)\n",
    "    for i in range(1, len(theta)):\n",
    "        res[i] = (X_b.dot(theta) - y).dot(X_b[:,i])\n",
    "    return res * 2 / len(X_b)"
   ]
  },
  {
   "cell_type": "markdown",
   "metadata": {},
   "source": [
    "### 梯度下降的方法"
   ]
  },
  {
   "cell_type": "code",
   "execution_count": 10,
   "metadata": {},
   "outputs": [],
   "source": [
    "def gradient_descent(X_b, y, initial_theta, eta, n_iters=1e4, epsilon=1e-8):\n",
    "    theta = initial_theta\n",
    "    iters = 0\n",
    "    while iters < n_iters:\n",
    "        gradient = derivative_J(theta, X_b, y)\n",
    "        last_theta = theta\n",
    "        theta = theta - eta*gradient\n",
    "        \n",
    "        if (abs(J(theta, X_b, y) - J(last_theta, X_b, y)) < epsilon):\n",
    "            break\n",
    "        iters += 1\n",
    "    return theta"
   ]
  },
  {
   "cell_type": "markdown",
   "metadata": {},
   "source": [
    "### 看看梯度下降的效果"
   ]
  },
  {
   "cell_type": "code",
   "execution_count": 11,
   "metadata": {},
   "outputs": [],
   "source": [
    "X_b = np.hstack((np.ones((len(x),1)),X))\n",
    "initial_theta = np.zeros(X_b.shape[1])  # 初始的θ向量都是0\n",
    "eta = 0.01  # 学习率\n",
    "\n",
    "theta = gradient_descent(X_b, y, initial_theta, eta)\n"
   ]
  },
  {
   "cell_type": "code",
   "execution_count": 12,
   "metadata": {},
   "outputs": [
    {
     "data": {
      "text/plain": [
       "array([ 4.02145786,  3.00706277])"
      ]
     },
     "execution_count": 12,
     "metadata": {},
     "output_type": "execute_result"
    }
   ],
   "source": [
    "theta"
   ]
  },
  {
   "cell_type": "markdown",
   "metadata": {},
   "source": [
    "跟上边y = x * 3. + 4. + np.random.normal(size=100)的系数3 和截距4 结果很接近"
   ]
  },
  {
   "cell_type": "markdown",
   "metadata": {},
   "source": [
    "### 测试我们刚刚封装好的线性回归算法"
   ]
  },
  {
   "cell_type": "code",
   "execution_count": 13,
   "metadata": {},
   "outputs": [
    {
     "data": {
      "text/plain": [
       "LinearRegression()"
      ]
     },
     "execution_count": 13,
     "metadata": {},
     "output_type": "execute_result"
    }
   ],
   "source": [
    "from playML.linear_regression import LinearRegression\n",
    "\n",
    "lin_reg = LinearRegression()\n",
    "lin_reg.fit_gd(X, y)"
   ]
  },
  {
   "cell_type": "code",
   "execution_count": 14,
   "metadata": {},
   "outputs": [
    {
     "data": {
      "text/plain": [
       "array([ 3.00706277])"
      ]
     },
     "execution_count": 14,
     "metadata": {},
     "output_type": "execute_result"
    }
   ],
   "source": [
    "lin_reg.coef_"
   ]
  },
  {
   "cell_type": "code",
   "execution_count": 15,
   "metadata": {},
   "outputs": [
    {
     "data": {
      "text/plain": [
       "4.021457858204859"
      ]
     },
     "execution_count": 15,
     "metadata": {},
     "output_type": "execute_result"
    }
   ],
   "source": [
    "lin_reg.interception_"
   ]
  },
  {
   "cell_type": "code",
   "execution_count": null,
   "metadata": {},
   "outputs": [],
   "source": []
  }
 ],
 "metadata": {
  "kernelspec": {
   "display_name": "Python 2",
   "language": "python",
   "name": "python2"
  },
  "language_info": {
   "codemirror_mode": {
    "name": "ipython",
    "version": 2
   },
   "file_extension": ".py",
   "mimetype": "text/x-python",
   "name": "python",
   "nbconvert_exporter": "python",
   "pygments_lexer": "ipython2",
   "version": "2.7.6"
  }
 },
 "nbformat": 4,
 "nbformat_minor": 0
}
